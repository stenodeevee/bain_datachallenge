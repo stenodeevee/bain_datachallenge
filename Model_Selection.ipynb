{
 "cells": [
  {
   "cell_type": "code",
   "execution_count": 2,
   "metadata": {},
   "outputs": [],
   "source": [
    "import pandas as pd\n",
    "import matplotlib.pyplot as plt\n",
    "import numpy as np"
   ]
  },
  {
   "cell_type": "code",
   "execution_count": 3,
   "metadata": {},
   "outputs": [],
   "source": [
    "df = pd.read_csv('analytical_data_withadditions.csv', sep=';')\n",
    "target_df = pd.read_csv('20201020_tabular_data/target.csv')\n",
    "\n",
    "df_l = pd.merge(df, target_df, on = [\"tile_h\", \"tile_v\"])\n",
    "df_predict = df[df.has_target != 1]"
   ]
  },
  {
   "cell_type": "code",
   "execution_count": 4,
   "metadata": {},
   "outputs": [],
   "source": [
    "# drop non-useful columns for the supervised learning models\n",
    "drop_cols = ['Unnamed: 0', 'block_size', 'elevation_sd', 'degree_of_slope_sd', 'has_target', 'Name', 'degree_of_slope_min', 'elevation_min', 'Population_1990', 'Population_2000', 'delta_unemployed' ]\n",
    "df_l.drop(drop_cols, axis=1 ,inplace=True)"
   ]
  },
  {
   "cell_type": "code",
   "execution_count": 5,
   "metadata": {},
   "outputs": [
    {
     "data": {
      "image/png": "[encoded data removed]",
      "text/plain": [
       "<Figure size 648x648 with 1 Axes>"
      ]
     },
     "metadata": {},
     "output_type": "display_data"
    }
   ],
   "source": [
    "#Most values are zero!\n",
    "explode = (0, 0.2)\n",
    "cmap = plt.get_cmap(\"tab20c\")\n",
    "outer_colors = cmap(np.arange(2)*4)\n",
    "\n",
    "plt.pie([df_l.target[df_l.target == 0].shape[0],df_l.target[df_l.target > 0].shape[0]],\n",
    "        labels=['target = 0','target > 0'],\n",
    "        colors=['lightgreen','lightgrey'],\n",
    "        shadow=False,\n",
    "        autopct ='%1.2f%%',\n",
    "        explode=explode\n",
    "       )\n",
    "centre_circle = plt.Circle((0,0),0.20,fc='white')\n",
    "\n",
    "fig = plt.gcf()\n",
    "fig.gca().add_artist(centre_circle)\n",
    "fig.set_size_inches(9,9)\n",
    "\n",
    "fig.savefig('piechart.png')"
   ]
  },
  {
   "cell_type": "code",
   "execution_count": 5,
   "metadata": {},
   "outputs": [],
   "source": [
    "# If I ran immediately a learning regression model I would definitely get overfitting"
   ]
  },
  {
   "cell_type": "code",
   "execution_count": 6,
   "metadata": {},
   "outputs": [],
   "source": [
    "df_l = df_l.fillna(0)\n",
    "#Declare targets\n",
    "y = df_l['target'].values\n",
    "x=df_l.drop(['target'],axis=1).values"
   ]
  },
  {
   "cell_type": "code",
   "execution_count": 7,
   "metadata": {},
   "outputs": [],
   "source": [
    "# First I will run a classifier, that will tell me whether target is 0 or a value greater than zero"
   ]
  },
  {
   "cell_type": "code",
   "execution_count": 13,
   "metadata": {},
   "outputs": [],
   "source": [
    "y_class = np.where(y > 0, 1, 0)"
   ]
  },
  {
   "cell_type": "code",
   "execution_count": 17,
   "metadata": {
    "scrolled": true
   },
   "outputs": [
    {
     "ename": "NameError",
     "evalue": "name 'xrange' is not defined",
     "output_type": "error",
     "traceback": [
      "\u001b[1;31m---------------------------------------------------------------------------\u001b[0m",
      "\u001b[1;31mNameError\u001b[0m                                 Traceback (most recent call last)",
      "\u001b[1;32m<ipython-input-17-8ab3e637f619>\u001b[0m in \u001b[0;36m<module>\u001b[1;34m\u001b[0m\n\u001b[0;32m     32\u001b[0m \u001b[1;33m\u001b[0m\u001b[0m\n\u001b[0;32m     33\u001b[0m \u001b[0mplt\u001b[0m\u001b[1;33m.\u001b[0m\u001b[0mboxplot\u001b[0m\u001b[1;33m(\u001b[0m\u001b[0macc_r\u001b[0m\u001b[1;33m)\u001b[0m\u001b[1;33m;\u001b[0m\u001b[1;33m\u001b[0m\u001b[1;33m\u001b[0m\u001b[0m\n\u001b[1;32m---> 34\u001b[1;33m \u001b[1;32mfor\u001b[0m \u001b[0mi\u001b[0m \u001b[1;32min\u001b[0m \u001b[0mxrange\u001b[0m\u001b[1;33m(\u001b[0m\u001b[1;36m4\u001b[0m\u001b[1;33m)\u001b[0m\u001b[1;33m:\u001b[0m\u001b[1;33m\u001b[0m\u001b[1;33m\u001b[0m\u001b[0m\n\u001b[0m\u001b[0;32m     35\u001b[0m     \u001b[0mxderiv\u001b[0m \u001b[1;33m=\u001b[0m \u001b[1;33m(\u001b[0m\u001b[0mi\u001b[0m\u001b[1;33m+\u001b[0m\u001b[1;36m1\u001b[0m\u001b[1;33m)\u001b[0m\u001b[1;33m*\u001b[0m\u001b[0mnp\u001b[0m\u001b[1;33m.\u001b[0m\u001b[0mones\u001b[0m\u001b[1;33m(\u001b[0m\u001b[0macc_r\u001b[0m\u001b[1;33m[\u001b[0m\u001b[1;33m:\u001b[0m\u001b[1;33m,\u001b[0m\u001b[0mi\u001b[0m\u001b[1;33m]\u001b[0m\u001b[1;33m.\u001b[0m\u001b[0mshape\u001b[0m\u001b[1;33m)\u001b[0m\u001b[1;33m+\u001b[0m\u001b[1;33m(\u001b[0m\u001b[0mnp\u001b[0m\u001b[1;33m.\u001b[0m\u001b[0mrandom\u001b[0m\u001b[1;33m.\u001b[0m\u001b[0mrand\u001b[0m\u001b[1;33m(\u001b[0m\u001b[1;36m10\u001b[0m\u001b[1;33m,\u001b[0m\u001b[1;33m)\u001b[0m\u001b[1;33m-\u001b[0m\u001b[1;36m0.5\u001b[0m\u001b[1;33m)\u001b[0m\u001b[1;33m*\u001b[0m\u001b[1;36m0.1\u001b[0m\u001b[1;33m\u001b[0m\u001b[1;33m\u001b[0m\u001b[0m\n\u001b[0;32m     36\u001b[0m     \u001b[0mplt\u001b[0m\u001b[1;33m.\u001b[0m\u001b[0mplot\u001b[0m\u001b[1;33m(\u001b[0m\u001b[0mxderiv\u001b[0m\u001b[1;33m,\u001b[0m\u001b[0macc_r\u001b[0m\u001b[1;33m[\u001b[0m\u001b[1;33m:\u001b[0m\u001b[1;33m,\u001b[0m\u001b[0mi\u001b[0m\u001b[1;33m]\u001b[0m\u001b[1;33m,\u001b[0m\u001b[1;34m'ro'\u001b[0m\u001b[1;33m,\u001b[0m\u001b[0malpha\u001b[0m\u001b[1;33m=\u001b[0m\u001b[1;36m0.3\u001b[0m\u001b[1;33m)\u001b[0m\u001b[1;33m\u001b[0m\u001b[1;33m\u001b[0m\u001b[0m\n",
      "\u001b[1;31mNameError\u001b[0m: name 'xrange' is not defined"
     ]
    },
    {
     "data": {
      "image/png": "[encoded data removed]",
      "text/plain": [
       "<Figure size 432x288 with 1 Axes>"
      ]
     },
     "metadata": {
      "needs_background": "light"
     },
     "output_type": "display_data"
    }
   ],
   "source": [
    "\n",
    "#The splitting can be done using the tools provided by sklearn:\n",
    "from sklearn.model_selection import train_test_split\n",
    "from sklearn import neighbors\n",
    "from sklearn import tree\n",
    "from sklearn import svm\n",
    "from sklearn import metrics\n",
    "\n",
    "PRC = 0.1\n",
    "acc_r=np.zeros((10,4))\n",
    "for i in range(10):\n",
    "    X_train, X_test, y_train, y_test = train_test_split(x, y_class, test_size=PRC)\n",
    "    nn1 = neighbors.KNeighborsClassifier(n_neighbors=1)\n",
    "    nn3 = neighbors.KNeighborsClassifier(n_neighbors=3)\n",
    "    svc = svm.SVC()\n",
    "    dt = tree.DecisionTreeClassifier()\n",
    "    \n",
    "    nn1.fit(X_train,y_train)\n",
    "    nn3.fit(X_train,y_train)\n",
    "    svc.fit(X_train,y_train)\n",
    "    dt.fit(X_train,y_train)\n",
    "    \n",
    "    yhat_nn1=nn1.predict(X_test)\n",
    "    yhat_nn3=nn3.predict(X_test)\n",
    "    yhat_svc=svc.predict(X_test)\n",
    "    yhat_dt=dt.predict(X_test)\n",
    "    \n",
    "    acc_r[i][0] = metrics.accuracy_score(yhat_nn1, y_test)\n",
    "    acc_r[i][1] = metrics.accuracy_score(yhat_nn3, y_test)\n",
    "    acc_r[i][2] = metrics.accuracy_score(yhat_svc, y_test)\n",
    "    acc_r[i][3] = metrics.accuracy_score(yhat_dt, y_test)\n",
    "\n",
    "\n",
    "plt.boxplot(acc_r);\n",
    "for i in xrange(4):\n",
    "    xderiv = (i+1)*np.ones(acc_r[:,i].shape)+(np.random.rand(10,)-0.5)*0.1\n",
    "    plt.plot(xderiv,acc_r[:,i],'ro',alpha=0.3)\n",
    "    \n",
    "ax = plt.gca()\n",
    "ax.set_xticklabels(['1-NN','3-NN','SVM','Decission Tree'])\n",
    "plt.ylabel('Accuracy')\n",
    "plt.savefig(\"error_ms_1.png\",dpi=300, bbox_inches='tight')"
   ]
  },
  {
   "cell_type": "code",
   "execution_count": 28,
   "metadata": {},
   "outputs": [
    {
     "data": {
      "image/png": "[encoded data removed]",
      "text/plain": [
       "<Figure size 432x288 with 1 Axes>"
      ]
     },
     "metadata": {
      "needs_background": "light"
     },
     "output_type": "display_data"
    }
   ],
   "source": [
    "plt.boxplot(acc_r);\n",
    "for i in range(4):\n",
    "    xderiv = (i+1)*np.ones(acc_r[:,i].shape)+(np.random.rand(10,)-0.5)*0.1\n",
    "    plt.plot(xderiv,acc_r[:,i],'ro',alpha=0.3)\n",
    "    \n",
    "ax = plt.gca()\n",
    "ax.set_xticklabels(['1-NN','3-NN','SVM','Decision Tree'])\n",
    "plt.ylabel('Accuracy')\n",
    "plt.savefig(\"error_ms_1.png\",dpi=300, bbox_inches='tight')"
   ]
  },
  {
   "cell_type": "code",
   "execution_count": 20,
   "metadata": {},
   "outputs": [],
   "source": [
    "# The only model that is better at predicting the classifier,than simply saying that all values are 0, are the NN classifiers\n",
    "# Perhaps I will run a TPOT module to actually see what is the best classifier, but for now I will stick with 3-NN"
   ]
  },
  {
   "cell_type": "code",
   "execution_count": 21,
   "metadata": {},
   "outputs": [
    {
     "data": {
      "text/plain": [
       "(array([3.948e+03, 1.293e+03, 7.310e+02, 5.070e+02, 3.150e+02, 2.670e+02,\n",
       "        1.750e+02, 1.420e+02, 8.300e+01, 7.900e+01, 5.700e+01, 4.500e+01,\n",
       "        3.200e+01, 3.700e+01, 1.600e+01, 1.500e+01, 1.900e+01, 1.100e+01,\n",
       "        1.200e+01, 5.000e+00, 2.000e+00, 4.000e+00, 4.000e+00, 5.000e+00,\n",
       "        3.000e+00, 4.000e+00, 1.000e+00, 0.000e+00, 0.000e+00, 1.000e+00]),\n",
       " array([  1. ,  30.9,  60.8,  90.7, 120.6, 150.5, 180.4, 210.3, 240.2,\n",
       "        270.1, 300. , 329.9, 359.8, 389.7, 419.6, 449.5, 479.4, 509.3,\n",
       "        539.2, 569.1, 599. , 628.9, 658.8, 688.7, 718.6, 748.5, 778.4,\n",
       "        808.3, 838.2, 868.1, 898. ]),\n",
       " <a list of 30 Patch objects>)"
      ]
     },
     "execution_count": 21,
     "metadata": {},
     "output_type": "execute_result"
    },
    {
     "data": {
      "image/png": "[encoded data removed]",
      "text/plain": [
       "<Figure size 432x288 with 1 Axes>"
      ]
     },
     "metadata": {
      "needs_background": "light"
     },
     "output_type": "display_data"
    }
   ],
   "source": [
    "#Let's see values that are not zero\n",
    "plt.hist(df_l.target[df_l.target != 0],bins=30)"
   ]
  },
  {
   "cell_type": "code",
   "execution_count": 22,
   "metadata": {},
   "outputs": [
    {
     "data": {
      "text/plain": [
       "(array([1.00923e+05, 1.30100e+03, 7.46000e+02, 5.15000e+02, 3.22000e+02,\n",
       "        2.64000e+02, 1.85000e+02, 1.39000e+02, 8.40000e+01, 8.30000e+01,\n",
       "        5.70000e+01, 4.50000e+01, 3.20000e+01, 3.70000e+01, 1.50000e+01,\n",
       "        1.60000e+01, 1.80000e+01, 1.10000e+01, 1.30000e+01, 5.00000e+00,\n",
       "        2.00000e+00, 4.00000e+00, 4.00000e+00, 5.00000e+00, 3.00000e+00,\n",
       "        4.00000e+00, 1.00000e+00, 0.00000e+00, 0.00000e+00, 1.00000e+00]),\n",
       " array([  0.        ,  29.93333333,  59.86666667,  89.8       ,\n",
       "        119.73333333, 149.66666667, 179.6       , 209.53333333,\n",
       "        239.46666667, 269.4       , 299.33333333, 329.26666667,\n",
       "        359.2       , 389.13333333, 419.06666667, 449.        ,\n",
       "        478.93333333, 508.86666667, 538.8       , 568.73333333,\n",
       "        598.66666667, 628.6       , 658.53333333, 688.46666667,\n",
       "        718.4       , 748.33333333, 778.26666667, 808.2       ,\n",
       "        838.13333333, 868.06666667, 898.        ]),\n",
       " <a list of 30 Patch objects>)"
      ]
     },
     "execution_count": 22,
     "metadata": {},
     "output_type": "execute_result"
    },
    {
     "data": {
      "image/png": "[encoded data removed]",
      "text/plain": [
       "<Figure size 432x288 with 1 Axes>"
      ]
     },
     "metadata": {
      "needs_background": "light"
     },
     "output_type": "display_data"
    }
   ],
   "source": [
    "#just for reference, this would've been the graph with even the zeros\n",
    "plt.hist(df_l.target,bins=30)"
   ]
  },
  {
   "cell_type": "code",
   "execution_count": 23,
   "metadata": {},
   "outputs": [],
   "source": [
    "# It's clear that I would've been very messy to consider only a regression, perhaps a better solution would've been running a neuronal network"
   ]
  },
  {
   "cell_type": "code",
   "execution_count": 24,
   "metadata": {},
   "outputs": [],
   "source": [
    "# Let's train the data for target > 0"
   ]
  },
  {
   "cell_type": "code",
   "execution_count": 25,
   "metadata": {},
   "outputs": [],
   "source": [
    "y_regr = df_l.target[df_l['target']>0].values\n",
    "x_regr=df_l[df_l['target']>0].drop(['target'],axis=1).values"
   ]
  },
  {
   "cell_type": "code",
   "execution_count": 26,
   "metadata": {},
   "outputs": [
    {
     "data": {
      "text/plain": [
       "(7813, 23)"
      ]
     },
     "execution_count": 26,
     "metadata": {},
     "output_type": "execute_result"
    }
   ],
   "source": [
    "np.shape(x_regr)"
   ]
  },
  {
   "cell_type": "code",
   "execution_count": 27,
   "metadata": {},
   "outputs": [
    {
     "data": {
      "text/plain": [
       "(7813,)"
      ]
     },
     "execution_count": 27,
     "metadata": {},
     "output_type": "execute_result"
    }
   ],
   "source": [
    "np.shape(y_regr)"
   ]
  },
  {
   "cell_type": "code",
   "execution_count": 67,
   "metadata": {},
   "outputs": [],
   "source": [
    "from sklearn import neighbors\n",
    "from sklearn import tree\n",
    "from sklearn import svm\n",
    "from sklearn import metrics\n",
    "\n",
    "PRC = 0.1\n",
    "me_r=np.zeros((10,4))\n",
    "for i in range(10):\n",
    "    X_train, X_test, y_train, y_test = train_test_split(x_regr, y_regr, test_size=PRC)\n",
    "    nn5 = neighbors.KNeighborsRegressor(n_neighbors=5)\n",
    "    nn26 = neighbors.KNeighborsRegressor(n_neighbors=26)\n",
    "    svr = svm.SVR()\n",
    "    dt = tree.DecisionTreeRegressor()\n",
    "    \n",
    "    nn5.fit(X_train,y_train)\n",
    "    nn26.fit(X_train,y_train)\n",
    "    svc.fit(X_train,y_train)\n",
    "    dt.fit(X_train,y_train)\n",
    "    \n",
    "    yhat_nn5=nn5.predict(X_test)\n",
    "    yhat_nn26=nn26.predict(X_test)\n",
    "    yhat_svc=svc.predict(X_test)\n",
    "    yhat_dt=dt.predict(X_test)\n",
    "    \n",
    "    me_r[i][0] = metrics.mean_absolute_error(yhat_nn5, y_test)\n",
    "    me_r[i][1] = metrics.mean_absolute_error(yhat_nn26, y_test)\n",
    "    me_r[i][2] = metrics.mean_absolute_error(yhat_svc, y_test)\n",
    "    me_r[i][3] = metrics.mean_absolute_error(yhat_dt, y_test)"
   ]
  },
  {
   "cell_type": "code",
   "execution_count": 68,
   "metadata": {},
   "outputs": [
    {
     "data": {
      "image/png": "[encoded data removed]",
      "text/plain": [
       "<Figure size 432x288 with 1 Axes>"
      ]
     },
     "metadata": {
      "needs_background": "light"
     },
     "output_type": "display_data"
    }
   ],
   "source": [
    "plt.boxplot(me_r);\n",
    "for i in range(4):\n",
    "    xderiv = (i+1)*np.ones(me_r[:,i].shape)+(np.random.rand(10,)-0.5)*0.1\n",
    "    plt.plot(xderiv,me_r[:,i],'ro',alpha=0.3)\n",
    "    \n",
    "ax = plt.gca()\n",
    "ax.set_xticklabels(['5-NN','26-NN','SVR','Decision Tree'])\n",
    "plt.ylabel('Mean Absolute Error')\n",
    "plt.savefig(\"error_ms_1.png\",dpi=300, bbox_inches='tight')\n",
    "\n",
    "# So for now I will provide these results, I will be running a proper pipeline with TPOT meanwhile, but wanted to at least give some\n",
    "# code by noon"
   ]
  },
  {
   "cell_type": "code",
   "execution_count": 36,
   "metadata": {},
   "outputs": [],
   "source": [
    "# Five neighbors is for now the best regressor\n",
    "# 3 NN is the best classifier"
   ]
  },
  {
   "cell_type": "code",
   "execution_count": 37,
   "metadata": {},
   "outputs": [
    {
     "data": {
      "text/plain": [
       "'Predicting the target'"
      ]
     },
     "execution_count": 37,
     "metadata": {},
     "output_type": "execute_result"
    }
   ],
   "source": [
    "\"\"\"Predicting the target\"\"\""
   ]
  },
  {
   "cell_type": "code",
   "execution_count": 75,
   "metadata": {},
   "outputs": [],
   "source": [
    "#df_predict.drop(drop_cols, axis=1 ,inplace=True)\n",
    "df_predict = df_predict.fillna(0)\n",
    "X_predict=df_predict.values\n",
    "y_predict_c = nn3.predict(X_predict)"
   ]
  },
  {
   "cell_type": "code",
   "execution_count": 76,
   "metadata": {},
   "outputs": [
    {
     "data": {
      "text/plain": [
       "array([0, 0, 0, ..., 0, 0, 0])"
      ]
     },
     "execution_count": 76,
     "metadata": {},
     "output_type": "execute_result"
    }
   ],
   "source": [
    "y_predict_c"
   ]
  },
  {
   "cell_type": "code",
   "execution_count": 77,
   "metadata": {},
   "outputs": [],
   "source": [
    "nonzeros = (np.where(y_predict_c > 0)[0]).tolist()\n",
    "X_predict_regr = X_predict[nonzeros, :]"
   ]
  },
  {
   "cell_type": "code",
   "execution_count": 78,
   "metadata": {},
   "outputs": [],
   "source": [
    "y_predict_regr = nn5.predict(X_predict_regr)"
   ]
  },
  {
   "cell_type": "code",
   "execution_count": 79,
   "metadata": {},
   "outputs": [],
   "source": [
    "y_final = [0]*np.shape(y_predict_c)[0]\n",
    "i = 0\n",
    "j = 0\n",
    "for value in y_predict_c:\n",
    "    if value != 0:\n",
    "        y_final[i] = y_predict_regr[j]\n",
    "        j += 1\n",
    "    \n",
    "    i += 1\n"
   ]
  },
  {
   "cell_type": "code",
   "execution_count": 80,
   "metadata": {},
   "outputs": [
    {
     "name": "stdout",
     "output_type": "stream",
     "text": [
      "(44927,)\n"
     ]
    }
   ],
   "source": [
    "print(np.shape(y_final))"
   ]
  },
  {
   "cell_type": "code",
   "execution_count": 84,
   "metadata": {},
   "outputs": [],
   "source": [
    "df_submission = pd.DataFrame()\n",
    "df_submission['tile_h'] = df_predict['tile_h']\n",
    "df_submission['tile_v'] = df_predict['tile_v']\n",
    "df_submission['prediction'] = y_final"
   ]
  },
  {
   "cell_type": "code",
   "execution_count": 85,
   "metadata": {},
   "outputs": [
    {
     "data": {
      "text/html": [
       "<div>\n",
       "<style scoped>\n",
       "    .dataframe tbody tr th:only-of-type {\n",
       "        vertical-align: middle;\n",
       "    }\n",
       "\n",
       "    .dataframe tbody tr th {\n",
       "        vertical-align: top;\n",
       "    }\n",
       "\n",
       "    .dataframe thead th {\n",
       "        text-align: right;\n",
       "    }\n",
       "</style>\n",
       "<table border=\"1\" class=\"dataframe\">\n",
       "  <thead>\n",
       "    <tr style=\"text-align: right;\">\n",
       "      <th></th>\n",
       "      <th>tile_h</th>\n",
       "      <th>tile_v</th>\n",
       "      <th>prediction</th>\n",
       "    </tr>\n",
       "  </thead>\n",
       "  <tbody>\n",
       "    <tr>\n",
       "      <th>0</th>\n",
       "      <td>5412</td>\n",
       "      <td>0</td>\n",
       "      <td>0.0</td>\n",
       "    </tr>\n",
       "    <tr>\n",
       "      <th>1</th>\n",
       "      <td>5445</td>\n",
       "      <td>0</td>\n",
       "      <td>0.0</td>\n",
       "    </tr>\n",
       "    <tr>\n",
       "      <th>5</th>\n",
       "      <td>5577</td>\n",
       "      <td>0</td>\n",
       "      <td>0.0</td>\n",
       "    </tr>\n",
       "    <tr>\n",
       "      <th>6</th>\n",
       "      <td>5610</td>\n",
       "      <td>0</td>\n",
       "      <td>0.0</td>\n",
       "    </tr>\n",
       "    <tr>\n",
       "      <th>7</th>\n",
       "      <td>5643</td>\n",
       "      <td>0</td>\n",
       "      <td>0.0</td>\n",
       "    </tr>\n",
       "  </tbody>\n",
       "</table>\n",
       "</div>"
      ],
      "text/plain": [
       "   tile_h  tile_v  prediction\n",
       "0    5412       0         0.0\n",
       "1    5445       0         0.0\n",
       "5    5577       0         0.0\n",
       "6    5610       0         0.0\n",
       "7    5643       0         0.0"
      ]
     },
     "execution_count": 85,
     "metadata": {},
     "output_type": "execute_result"
    }
   ],
   "source": [
    "df_submission.head()"
   ]
  },
  {
   "cell_type": "code",
   "execution_count": 86,
   "metadata": {},
   "outputs": [
    {
     "data": {
      "text/plain": [
       "count    44927.000000\n",
       "mean         4.243528\n",
       "std         22.773077\n",
       "min          0.000000\n",
       "25%          0.000000\n",
       "50%          0.000000\n",
       "75%          0.000000\n",
       "max        440.800000\n",
       "Name: prediction, dtype: float64"
      ]
     },
     "execution_count": 86,
     "metadata": {},
     "output_type": "execute_result"
    }
   ],
   "source": [
    "df_submission.prediction.describe()"
   ]
  },
  {
   "cell_type": "code",
   "execution_count": 87,
   "metadata": {},
   "outputs": [],
   "source": [
    "df_submission.to_csv('20201023103923_stenodeevee.csv', sep=',', encoding='utf-8')"
   ]
  },
  {
   "cell_type": "code",
   "execution_count": 88,
   "metadata": {},
   "outputs": [
    {
     "data": {
      "text/plain": [
       "\"\\nFYI: the final model is probably going to be found using TPOT, with the same modularity, but it predicts the best model\\nHere's how I am going to do it this afternoon, it takes time to converge and tonight something went wrong with it so I had to show \\nat least some results :)\\n\\n% Classifier\\ntpot = TPOTRegressor(generations=5, population_size=50, verbosity=2, random_state=42)\\ntpot.fit(X_train, y_train)\\nprint(tpot.score(X_test, y_test))\\ntpot.export('tpot_classifier.py')\\n\\n% Regressor\\ntpot = TPOTRegressor(generations=5, population_size=50, verbosity=2, random_state=42)\\ntpot.fit(X_train, y_train)\\nprint(tpot.score(X_test, y_test))\\ntpot.export('tpot_regressor.py')\\n\\n\\n\""
      ]
     },
     "execution_count": 88,
     "metadata": {},
     "output_type": "execute_result"
    }
   ],
   "source": [
    "\"\"\"\n",
    "FYI: the final model is probably going to be found using TPOT, with the same modularity, but it predicts the best model\n",
    "Here's how I am going to do it this afternoon, it takes time to converge and tonight something went wrong with it so I had to show \n",
    "at least some results :)\n",
    "\n",
    "% Classifier\n",
    "tpot = TPOTRegressor(generations=5, population_size=50, verbosity=2, random_state=42)\n",
    "tpot.fit(X_train, y_train)\n",
    "print(tpot.score(X_test, y_test))\n",
    "tpot.export('tpot_classifier.py')\n",
    "\n",
    "% Regressor\n",
    "tpot = TPOTRegressor(generations=5, population_size=50, verbosity=2, random_state=42)\n",
    "tpot.fit(X_train, y_train)\n",
    "print(tpot.score(X_test, y_test))\n",
    "tpot.export('tpot_regressor.py')\n",
    "\n",
    "\n",
    "\"\"\""
   ]
  },
  {
   "cell_type": "code",
   "execution_count": null,
   "metadata": {},
   "outputs": [],
   "source": []
  }
 ],
 "metadata": {
  "kernelspec": {
   "display_name": "Python 3",
   "language": "python",
   "name": "python3"
  },
  "language_info": {
   "codemirror_mode": {
    "name": "ipython",
    "version": 3
   },
   "file_extension": ".py",
   "mimetype": "text/x-python",
   "name": "python",
   "nbconvert_exporter": "python",
   "pygments_lexer": "ipython3",
   "version": "3.8.3"
  }
 },
 "nbformat": 4,
 "nbformat_minor": 4
}
